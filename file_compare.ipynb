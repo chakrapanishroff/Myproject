{
 "cells": [
  {
   "cell_type": "code",
   "execution_count": 1,
   "id": "f261f0c4",
   "metadata": {},
   "outputs": [],
   "source": [
    "import subprocess\n",
    "\n",
    "def compare_files(file1, file2):\n",
    "    git_diff_cmd = ['git', 'diff', '--no-index', file1, file2]\n",
    "    try:\n",
    "        result = subprocess.run(git_diff_cmd, capture_output=True, text=True)\n",
    "        return result.stdout\n",
    "    except subprocess.CalledProcessError as e:\n",
    "        print(\"Error:\", e)\n",
    "        return \"\"\n",
    "\n",
    "def write_changes_to_file(changes, output_file):\n",
    "    with open(output_file, 'w') as file:\n",
    "        file.write(changes)\n",
    "\n",
    "if __name__ == \"__main__\":\n",
    "    file1 = 'file1.py'\n",
    "    file2 = 'file2.py'\n",
    "    output_file = 'outfile.py'\n",
    "\n",
    "    changes = compare_files(file1, file2)\n",
    "    write_changes_to_file(changes, output_file)\n"
   ]
  },
  {
   "cell_type": "code",
   "execution_count": null,
   "id": "007ed066",
   "metadata": {},
   "outputs": [],
   "source": []
  }
 ],
 "metadata": {
  "kernelspec": {
   "display_name": "Python 3 (ipykernel)",
   "language": "python",
   "name": "python3"
  },
  "language_info": {
   "codemirror_mode": {
    "name": "ipython",
    "version": 3
   },
   "file_extension": ".py",
   "mimetype": "text/x-python",
   "name": "python",
   "nbconvert_exporter": "python",
   "pygments_lexer": "ipython3",
   "version": "3.9.13"
  }
 },
 "nbformat": 4,
 "nbformat_minor": 5
}
